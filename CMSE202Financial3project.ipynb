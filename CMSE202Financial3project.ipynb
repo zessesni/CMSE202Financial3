{
 "cells": [
  {
   "cell_type": "markdown",
   "id": "b3ead5c7",
   "metadata": {},
   "source": [
    "# Financial 3 Semester project (Comparing specific ETF's during various Natural Disasters)\n",
    "\n",
    "## Nick Zesses, Hunter Vainik, Alli Weems, Maneesh Malpeddi"
   ]
  },
  {
   "cell_type": "markdown",
   "id": "1dcf59a9",
   "metadata": {},
   "source": []
  },
  {
   "cell_type": "code",
   "execution_count": null,
   "id": "674e4200",
   "metadata": {},
   "outputs": [],
   "source": []
  },
  {
   "cell_type": "code",
   "execution_count": 3,
   "id": "4f83e607",
   "metadata": {},
   "outputs": [],
   "source": [
    "import pandas as pd\n",
    "import numpy as np\n",
    "import matplotlib.pyplot as plt\n",
    "import seaborn as sb\n",
    "import random\n",
    "import time\n",
    "import sklearn as skl"
   ]
  },
  {
   "cell_type": "code",
   "execution_count": 6,
   "id": "720ba2c9",
   "metadata": {},
   "outputs": [],
   "source": [
    "# # iyr = pd.read_csv('IYR.csv', delimiter = ',')\n",
    "# schh = pd.read_csv('SCHH.csv',delimiter = ',')\n",
    "# vnq =  pd.read_csv('VNQ.csv', delimiter = ',')\n",
    "# print(schh)"
   ]
  },
  {
   "cell_type": "code",
   "execution_count": null,
   "id": "5a4abd8c",
   "metadata": {},
   "outputs": [],
   "source": []
  },
  {
   "cell_type": "code",
   "execution_count": null,
   "id": "0fa518b3",
   "metadata": {},
   "outputs": [],
   "source": []
  },
  {
   "cell_type": "code",
   "execution_count": null,
   "id": "06f3fcca",
   "metadata": {},
   "outputs": [],
   "source": []
  },
  {
   "cell_type": "code",
   "execution_count": null,
   "id": "c3d5804d",
   "metadata": {},
   "outputs": [],
   "source": []
  },
  {
   "cell_type": "code",
   "execution_count": null,
   "id": "aee29439",
   "metadata": {},
   "outputs": [],
   "source": []
  },
  {
   "cell_type": "code",
   "execution_count": null,
   "id": "2e4a2f57",
   "metadata": {},
   "outputs": [],
   "source": []
  },
  {
   "cell_type": "code",
   "execution_count": null,
   "id": "fcf09c9e",
   "metadata": {},
   "outputs": [],
   "source": []
  },
  {
   "cell_type": "code",
   "execution_count": null,
   "id": "51ae81fc",
   "metadata": {},
   "outputs": [],
   "source": []
  }
 ],
 "metadata": {
  "kernelspec": {
   "display_name": "Python 3",
   "language": "python",
   "name": "python3"
  },
  "language_info": {
   "codemirror_mode": {
    "name": "ipython",
    "version": 3
   },
   "file_extension": ".py",
   "mimetype": "text/x-python",
   "name": "python",
   "nbconvert_exporter": "python",
   "pygments_lexer": "ipython3",
   "version": "3.8.8"
  }
 },
 "nbformat": 4,
 "nbformat_minor": 5
}
