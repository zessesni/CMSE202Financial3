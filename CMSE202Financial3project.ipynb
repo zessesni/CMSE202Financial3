{
 "cells": [
  {
   "cell_type": "markdown",
   "id": "b3ead5c7",
   "metadata": {},
   "source": [
    "# Financial 3 Semester project (Comparing specific ETF's during various Natural Disasters)\n",
    "\n",
    "## Nick Zesses, Hunter Vainik, Alli Weems, Maneesh Malpeddi"
   ]
  },
  {
   "cell_type": "markdown",
   "id": "1dcf59a9",
   "metadata": {},
   "source": []
  },
  {
   "cell_type": "code",
   "execution_count": 2,
   "id": "4f83e607",
   "metadata": {},
   "outputs": [],
   "source": [
    "import pandas as pd\n",
    "import numpy as np\n",
    "import matplotlib.pyplot as plt\n",
    "import seaborn as sb\n",
    "import random\n",
    "import time\n",
    "import sklearn as skl\n",
    "import matplotlib.dates as mdates\n",
    "import datetime as dt"
   ]
  },
  {
   "cell_type": "code",
   "execution_count": 3,
   "id": "720ba2c9",
   "metadata": {
    "scrolled": true
   },
   "outputs": [
    {
     "data": {
      "text/html": [
       "<div>\n",
       "<style scoped>\n",
       "    .dataframe tbody tr th:only-of-type {\n",
       "        vertical-align: middle;\n",
       "    }\n",
       "\n",
       "    .dataframe tbody tr th {\n",
       "        vertical-align: top;\n",
       "    }\n",
       "\n",
       "    .dataframe thead th {\n",
       "        text-align: right;\n",
       "    }\n",
       "</style>\n",
       "<table border=\"1\" class=\"dataframe\">\n",
       "  <thead>\n",
       "    <tr style=\"text-align: right;\">\n",
       "      <th></th>\n",
       "      <th>Date</th>\n",
       "      <th>Open</th>\n",
       "      <th>High</th>\n",
       "      <th>Low</th>\n",
       "      <th>Close</th>\n",
       "      <th>Adj Close</th>\n",
       "      <th>Volume</th>\n",
       "    </tr>\n",
       "  </thead>\n",
       "  <tbody>\n",
       "    <tr>\n",
       "      <th>0</th>\n",
       "      <td>2004-10-01</td>\n",
       "      <td>49.430000</td>\n",
       "      <td>49.430000</td>\n",
       "      <td>49.430000</td>\n",
       "      <td>49.430000</td>\n",
       "      <td>32.403244</td>\n",
       "      <td>0</td>\n",
       "    </tr>\n",
       "    <tr>\n",
       "      <th>1</th>\n",
       "      <td>2004-10-04</td>\n",
       "      <td>49.430000</td>\n",
       "      <td>49.430000</td>\n",
       "      <td>49.430000</td>\n",
       "      <td>49.430000</td>\n",
       "      <td>32.403244</td>\n",
       "      <td>0</td>\n",
       "    </tr>\n",
       "    <tr>\n",
       "      <th>2</th>\n",
       "      <td>2004-10-05</td>\n",
       "      <td>49.430000</td>\n",
       "      <td>49.430000</td>\n",
       "      <td>49.430000</td>\n",
       "      <td>49.430000</td>\n",
       "      <td>32.403244</td>\n",
       "      <td>0</td>\n",
       "    </tr>\n",
       "    <tr>\n",
       "      <th>3</th>\n",
       "      <td>2004-10-06</td>\n",
       "      <td>51.130001</td>\n",
       "      <td>51.130001</td>\n",
       "      <td>51.130001</td>\n",
       "      <td>51.130001</td>\n",
       "      <td>33.517673</td>\n",
       "      <td>20000</td>\n",
       "    </tr>\n",
       "    <tr>\n",
       "      <th>4</th>\n",
       "      <td>2004-10-07</td>\n",
       "      <td>51.130001</td>\n",
       "      <td>51.130001</td>\n",
       "      <td>51.130001</td>\n",
       "      <td>51.130001</td>\n",
       "      <td>33.517673</td>\n",
       "      <td>0</td>\n",
       "    </tr>\n",
       "    <tr>\n",
       "      <th>...</th>\n",
       "      <td>...</td>\n",
       "      <td>...</td>\n",
       "      <td>...</td>\n",
       "      <td>...</td>\n",
       "      <td>...</td>\n",
       "      <td>...</td>\n",
       "      <td>...</td>\n",
       "    </tr>\n",
       "    <tr>\n",
       "      <th>4398</th>\n",
       "      <td>2022-03-22</td>\n",
       "      <td>118.059998</td>\n",
       "      <td>120.690002</td>\n",
       "      <td>118.059998</td>\n",
       "      <td>120.070000</td>\n",
       "      <td>119.910133</td>\n",
       "      <td>88900</td>\n",
       "    </tr>\n",
       "    <tr>\n",
       "      <th>4399</th>\n",
       "      <td>2022-03-23</td>\n",
       "      <td>119.339996</td>\n",
       "      <td>120.239998</td>\n",
       "      <td>118.669998</td>\n",
       "      <td>118.669998</td>\n",
       "      <td>118.511993</td>\n",
       "      <td>811300</td>\n",
       "    </tr>\n",
       "    <tr>\n",
       "      <th>4400</th>\n",
       "      <td>2022-03-24</td>\n",
       "      <td>119.220001</td>\n",
       "      <td>120.320000</td>\n",
       "      <td>118.550003</td>\n",
       "      <td>120.260002</td>\n",
       "      <td>120.260002</td>\n",
       "      <td>88400</td>\n",
       "    </tr>\n",
       "    <tr>\n",
       "      <th>4401</th>\n",
       "      <td>2022-03-25</td>\n",
       "      <td>120.449997</td>\n",
       "      <td>121.019997</td>\n",
       "      <td>119.510002</td>\n",
       "      <td>120.559998</td>\n",
       "      <td>120.559998</td>\n",
       "      <td>71400</td>\n",
       "    </tr>\n",
       "    <tr>\n",
       "      <th>4402</th>\n",
       "      <td>2022-03-28</td>\n",
       "      <td>120.629997</td>\n",
       "      <td>121.230003</td>\n",
       "      <td>119.320000</td>\n",
       "      <td>121.190002</td>\n",
       "      <td>121.190002</td>\n",
       "      <td>87900</td>\n",
       "    </tr>\n",
       "  </tbody>\n",
       "</table>\n",
       "<p>4403 rows × 7 columns</p>\n",
       "</div>"
      ],
      "text/plain": [
       "            Date        Open        High         Low       Close   Adj Close  \\\n",
       "0     2004-10-01   49.430000   49.430000   49.430000   49.430000   32.403244   \n",
       "1     2004-10-04   49.430000   49.430000   49.430000   49.430000   32.403244   \n",
       "2     2004-10-05   49.430000   49.430000   49.430000   49.430000   32.403244   \n",
       "3     2004-10-06   51.130001   51.130001   51.130001   51.130001   33.517673   \n",
       "4     2004-10-07   51.130001   51.130001   51.130001   51.130001   33.517673   \n",
       "...          ...         ...         ...         ...         ...         ...   \n",
       "4398  2022-03-22  118.059998  120.690002  118.059998  120.070000  119.910133   \n",
       "4399  2022-03-23  119.339996  120.239998  118.669998  118.669998  118.511993   \n",
       "4400  2022-03-24  119.220001  120.320000  118.550003  120.260002  120.260002   \n",
       "4401  2022-03-25  120.449997  121.019997  119.510002  120.559998  120.559998   \n",
       "4402  2022-03-28  120.629997  121.230003  119.320000  121.190002  121.190002   \n",
       "\n",
       "      Volume  \n",
       "0          0  \n",
       "1          0  \n",
       "2          0  \n",
       "3      20000  \n",
       "4          0  \n",
       "...      ...  \n",
       "4398   88900  \n",
       "4399  811300  \n",
       "4400   88400  \n",
       "4401   71400  \n",
       "4402   87900  \n",
       "\n",
       "[4403 rows x 7 columns]"
      ]
     },
     "execution_count": 3,
     "metadata": {},
     "output_type": "execute_result"
    }
   ],
   "source": [
    "#Real Estate ETF\n",
    "iyr = pd.read_csv('Real Estate/IYR.csv', delimiter = ',')\n",
    "schh = pd.read_csv('Real Estate/SCHH.csv',delimiter = ',')\n",
    "vnq =  pd.read_csv('Real Estate/VNQ.csv', delimiter = ',')\n",
    "\n",
    "#Energy Etfs\n",
    "oilu = pd.read_csv('Energy/OILU.csv',delimiter = ',')\n",
    "gush = pd.read_csv('Energy/GUSH.csv',delimiter = ',')\n",
    "vde = pd.read_csv('Energy/VDE.csv',delimiter = ',')\n",
    "\n",
    "#materials ETF's\n",
    "iym = pd.read_csv('Materials/IYM.csv',delimiter = ',')\n",
    "vaw = pd.read_csv('Materials/VAW.csv',delimiter = ',')\n",
    "xlb = pd.read_csv('Materials/XLB.csv',delimiter = ',')\n",
    "mxi = pd.read_csv('Materials/MXI.csv', delimiter = ',')\n",
    "\n",
    "# Entertainment ETFs\n",
    "pbs = pd.read_csv('Entertainment/PBS.csv',delimiter = ',')\n",
    "pej = pd.read_csv('Entertainment/PEJ.csv',delimiter = ',')\n",
    "vox = pd.read_csv('Entertainment/VOX.csv',delimiter = ',')\n",
    "\n",
    "# Healthcare ETFs\n",
    "ibb = pd.read_csv('Healthcare/IBB.csv',delimiter = ',')\n",
    "vht = pd.read_csv('Healthcare/VHT.csv',delimiter = ',')\n",
    "xlv = pd.read_csv('Healthcare/XLV.csv',delimiter = ',')\n",
    "\n",
    "# Manufacturing ETFs\n",
    "exi = pd.read_csv('Manufacturing/EXI (9-28-2006).csv', delimiter = ',') \n",
    "vis = pd.read_csv('Manufacturing/VIS (9-30-2004).csv', delimiter = ',') \n",
    "xli = pd.read_csv('Manufacturing/XLI (12-28-1998).csv', delimiter = ',')\n",
    "\n",
    "# Mining ETFs\n",
    "pick = pd.read_csv('Mining/PICK.csv', delimiter = ',') \n",
    "remx = pd.read_csv('Mining/REMX.csv', delimiter = ',')\n",
    "xme = pd.read_csv('Mining/XME.csv', delimiter = ',')\n",
    "\n",
    "# Pharma ETFs\n",
    "ihe = pd.read_csv('Pharma/IHE.csv', delimiter = ',')\n",
    "pjp = pd.read_csv('Pharma/PJP.csv', delimiter = ',')\n",
    "pph = pd.read_csv('Pharma/PPH.csv', delimiter = ',')\n",
    "\n",
    "# Tech ETFs\n",
    "ryt = pd.read_csv('Tech/RYT.csv', delimiter = ',')\n",
    "vgt = pd.read_csv('Tech/VGT.csv', delimiter = ',')\n",
    "xsw = pd.read_csv('Tech/XSW.csv', delimiter = ',')\n",
    "\n",
    "# Agriculture ETFs\n",
    "dba = pd.read_csv('Agriculture/DBA.csv', delimiter = ',')\n",
    "rja = pd.read_csv('Agriculture/RJA.csv', delimiter = ',')\n",
    "tags = pd.read_csv('Agriculture/TAGS.csv', delimiter = ',')\n",
    "\n",
    "# Automotive ETFs\n",
    "carz = pd.read_csv('Automotive/CARZ.csv', delimiter = ',')\n",
    "driv = pd.read_csv('Automotive/DRIV.csv', delimiter = ',')\n",
    "vcar = pd.read_csv('Automotive/VCAR.csv', delimiter = ',')\n",
    "\n",
    "# Telocommunications ETFs\n",
    "iyz = pd.read_csv('Telecommunications/IYZ.csv', delimiter = ',')\n",
    "nxtg = pd.read_csv('Telecommunications/NXTG.csv', delimiter = ',')\n",
    "vox = pd.read_csv('Telecommunications/VOX.csv', delimiter = ',')\n",
    "vox"
   ]
  },
  {
   "cell_type": "code",
   "execution_count": 13,
   "id": "5a4abd8c",
   "metadata": {},
   "outputs": [
    {
     "data": {
      "text/plain": [
       "(array([17843.]), array([17865.]))"
      ]
     },
     "execution_count": 13,
     "metadata": {},
     "output_type": "execute_result"
    },
    {
     "data": {
      "image/png": "[encoded data removed]",
      "text/plain": [
       "<Figure size 432x288 with 1 Axes>"
      ]
     },
     "metadata": {
      "needs_background": "light"
     },
     "output_type": "display_data"
    }
   ],
   "source": [
    "#Real Estate ETF's graphs\n",
    "schhx =  [dt.datetime.strptime(d,'%Y-%m-%d').date() for d in schh.iloc[:,0]]\n",
    "iyrx = [dt.datetime.strptime(d,'%Y-%m-%d').date() for d in iyr.iloc[:,0]]\n",
    "vnqx =  [dt.datetime.strptime(d,'%Y-%m-%d').date() for d in vnq.iloc[:,0]]\n",
    "line = [dt.datetime.strptime('2018-11-08','%Y-%m-%d').date()]\n",
    "stop =  [dt.datetime.strptime('2018-11-30','%Y-%m-%d').date()]\n",
    "plt.margins(x=0)\n",
    "plt.plot(iyrx,iyr['Open'])\n",
    "plt.plot(vnqx,vnq['Open'])\n",
    "plt.plot(schhx,schh['Open'])\n",
    "plt.axvline(line)\n",
    "plt.xlim(line,stop)"
   ]
  },
  {
   "cell_type": "code",
   "execution_count": 17,
   "id": "06f3fcca",
   "metadata": {},
   "outputs": [
    {
     "data": {
      "text/plain": [
       "(50.0, 130.0)"
      ]
     },
     "execution_count": 17,
     "metadata": {},
     "output_type": "execute_result"
    },
    {
     "data": {
      "image/png": "[encoded data removed]",
      "text/plain": [
       "<Figure size 432x288 with 1 Axes>"
      ]
     },
     "metadata": {
      "needs_background": "light"
     },
     "output_type": "display_data"
    }
   ],
   "source": [
    "iymx =  [dt.datetime.strptime(d,'%Y-%m-%d').date() for d in iym.iloc[:,0]]\n",
    "vawx = [dt.datetime.strptime(d,'%Y-%m-%d').date() for d in vaw.iloc[:,0]]\n",
    "xlbx =  [dt.datetime.strptime(d,'%Y-%m-%d').date() for d in xlb.iloc[:,0]]\n",
    "line = [dt.datetime.strptime('2018-11-08','%Y-%m-%d').date()]\n",
    "stop =  [dt.datetime.strptime('2018-11-30','%Y-%m-%d').date()]\n",
    "plt.margins(x=0)\n",
    "plt.plot(iymx,iym['Open'])\n",
    "plt.plot(vawx,vaw['Open'])\n",
    "plt.plot(xlbx,xlb['Open'])\n",
    "plt.axvline(line)\n",
    "plt.xlim(line,stop)\n",
    "plt.ylim(50,130)"
   ]
  },
  {
   "cell_type": "code",
   "execution_count": 18,
   "id": "600bb63e",
   "metadata": {},
   "outputs": [
    {
     "data": {
      "text/plain": [
       "(array([17843.]), array([17865.]))"
      ]
     },
     "execution_count": 18,
     "metadata": {},
     "output_type": "execute_result"
    },
    {
     "data": {
      "image/png": "[encoded data removed]",
      "text/plain": [
       "<Figure size 432x288 with 1 Axes>"
      ]
     },
     "metadata": {
      "needs_background": "light"
     },
     "output_type": "display_data"
    }
   ],
   "source": [
    "#Real Estate ETF's graphs\n",
    "oilux =  [dt.datetime.strptime(d,'%Y-%m-%d').date() for d in oilu.iloc[:,0]]\n",
    "gushx = [dt.datetime.strptime(d,'%Y-%m-%d').date() for d in gush.iloc[:,0]]\n",
    "vdex =  [dt.datetime.strptime(d,'%Y-%m-%d').date() for d in vde.iloc[:,0]]\n",
    "line = [dt.datetime.strptime('2018-11-08','%Y-%m-%d').date()]\n",
    "stop =  [dt.datetime.strptime('2018-11-30','%Y-%m-%d').date()]\n",
    "plt.margins(x=0)\n",
    "plt.plot(oilux,oilu['Open'])\n",
    "plt.plot(gushx,gush['Open'])\n",
    "plt.plot(vdex,vde['Open'])\n",
    "plt.xlim(line,stop)"
   ]
  },
  {
   "cell_type": "code",
   "execution_count": null,
   "id": "ee35ef31",
   "metadata": {},
   "outputs": [],
   "source": []
  },
  {
   "cell_type": "code",
   "execution_count": 6,
   "id": "c3d5804d",
   "metadata": {},
   "outputs": [
    {
     "ename": "IndentationError",
     "evalue": "expected an indented block (<ipython-input-6-d6d5982c46bf>, line 3)",
     "output_type": "error",
     "traceback": [
      "\u001b[0;36m  File \u001b[0;32m\"<ipython-input-6-d6d5982c46bf>\"\u001b[0;36m, line \u001b[0;32m3\u001b[0m\n\u001b[0;31m    file1\u001b[0m\n\u001b[0m    ^\u001b[0m\n\u001b[0;31mIndentationError\u001b[0m\u001b[0;31m:\u001b[0m expected an indented block\n"
     ]
    }
   ],
   "source": [
    "def plot_disaster(disaster,industry):\n",
    "    if disaster == '':\n",
    "    file1\n",
    "    file2\n",
    "    file3\n",
    "    \n",
    "    "
   ]
  },
  {
   "cell_type": "code",
   "execution_count": null,
   "id": "aee29439",
   "metadata": {},
   "outputs": [],
   "source": [
    "def disasterpredict(disaster,industry):"
   ]
  },
  {
   "cell_type": "code",
   "execution_count": null,
   "id": "2e4a2f57",
   "metadata": {},
   "outputs": [],
   "source": [
    "pharmaIHE = pd.read_csv('IHE.csv')\n",
    "pharmaPJP = pd.read_csv('PJP.csv')\n",
    "pharmaPPH = pd.read_csv('PPH.csv')"
   ]
  },
  {
   "cell_type": "code",
   "execution_count": 4,
   "id": "fcf09c9e",
   "metadata": {},
   "outputs": [
    {
     "ename": "NameError",
     "evalue": "name 'pharmaIHE' is not defined",
     "output_type": "error",
     "traceback": [
      "\u001b[0;31m---------------------------------------------------------------------------\u001b[0m",
      "\u001b[0;31mNameError\u001b[0m                                 Traceback (most recent call last)",
      "\u001b[0;32m<ipython-input-4-4951896d788a>\u001b[0m in \u001b[0;36m<module>\u001b[0;34m\u001b[0m\n\u001b[0;32m----> 1\u001b[0;31m \u001b[0mplt\u001b[0m\u001b[0;34m.\u001b[0m\u001b[0mplot\u001b[0m\u001b[0;34m(\u001b[0m\u001b[0mpharmaIHE\u001b[0m\u001b[0;34m[\u001b[0m\u001b[0;34m'Date'\u001b[0m\u001b[0;34m]\u001b[0m\u001b[0;34m,\u001b[0m \u001b[0mpharmaIHE\u001b[0m\u001b[0;34m[\u001b[0m\u001b[0;34m'Open'\u001b[0m\u001b[0;34m]\u001b[0m\u001b[0;34m)\u001b[0m\u001b[0;34m\u001b[0m\u001b[0;34m\u001b[0m\u001b[0m\n\u001b[0m\u001b[1;32m      2\u001b[0m \u001b[0mplt\u001b[0m\u001b[0;34m.\u001b[0m\u001b[0maxvline\u001b[0m\u001b[0;34m(\u001b[0m\u001b[0;34m'2011-04-25'\u001b[0m\u001b[0;34m,\u001b[0m \u001b[0mc\u001b[0m \u001b[0;34m=\u001b[0m \u001b[0;34m'orange'\u001b[0m\u001b[0;34m,\u001b[0m \u001b[0mlabel\u001b[0m \u001b[0;34m=\u001b[0m \u001b[0;34m'2011 Tornado Outbreak'\u001b[0m\u001b[0;34m)\u001b[0m\u001b[0;34m\u001b[0m\u001b[0;34m\u001b[0m\u001b[0m\n\u001b[1;32m      3\u001b[0m \u001b[0mplt\u001b[0m\u001b[0;34m.\u001b[0m\u001b[0maxvline\u001b[0m\u001b[0;34m(\u001b[0m\u001b[0;34m'2013-05-31'\u001b[0m\u001b[0;34m,\u001b[0m \u001b[0mc\u001b[0m \u001b[0;34m=\u001b[0m \u001b[0;34m'red'\u001b[0m\u001b[0;34m,\u001b[0m \u001b[0mlabel\u001b[0m \u001b[0;34m=\u001b[0m \u001b[0;34m'2013 Tornado Outbreak'\u001b[0m\u001b[0;34m)\u001b[0m\u001b[0;34m\u001b[0m\u001b[0;34m\u001b[0m\u001b[0m\n\u001b[1;32m      4\u001b[0m \u001b[0mplt\u001b[0m\u001b[0;34m.\u001b[0m\u001b[0maxvline\u001b[0m\u001b[0;34m(\u001b[0m\u001b[0;34m'2007-05-04'\u001b[0m\u001b[0;34m,\u001b[0m \u001b[0mc\u001b[0m \u001b[0;34m=\u001b[0m \u001b[0;34m'green'\u001b[0m\u001b[0;34m,\u001b[0m \u001b[0mlabel\u001b[0m \u001b[0;34m=\u001b[0m \u001b[0;34m'2007 Tornado Outbreak'\u001b[0m\u001b[0;34m)\u001b[0m\u001b[0;34m\u001b[0m\u001b[0;34m\u001b[0m\u001b[0m\n\u001b[1;32m      5\u001b[0m \u001b[0mplt\u001b[0m\u001b[0;34m.\u001b[0m\u001b[0mtitle\u001b[0m\u001b[0;34m(\u001b[0m\u001b[0;34m'Pharmaceutical Sector'\u001b[0m\u001b[0;34m)\u001b[0m\u001b[0;34m\u001b[0m\u001b[0;34m\u001b[0m\u001b[0m\n",
      "\u001b[0;31mNameError\u001b[0m: name 'pharmaIHE' is not defined"
     ]
    }
   ],
   "source": [
    "plt.plot(pharmaIHE['Date'], pharmaIHE['Open'])\n",
    "plt.axvline('2011-04-25', c = 'orange', label = '2011 Tornado Outbreak')\n",
    "plt.axvline('2013-05-31', c = 'red', label = '2013 Tornado Outbreak')\n",
    "plt.axvline('2007-05-04', c = 'green', label = '2007 Tornado Outbreak')\n",
    "plt.title('Pharmaceutical Sector')\n",
    "plt.xlabel('Date')\n",
    "plt.ylabel('Stock Open')\n",
    "plt.legend()\n",
    "#plt.plot(pharmaPJP['Date'], pharmaPJP['High'])\n",
    "#plt.plot(pharmaPPH['Date'], pharmaPPH['High'])"
   ]
  },
  {
   "cell_type": "code",
   "execution_count": 18,
   "id": "51ae81fc",
   "metadata": {},
   "outputs": [],
   "source": [
    "\"\"\"Module containing the disasters. \"\"\"\n",
    "\n",
    "import numpy as np\n",
    "\n",
    "\n",
    "class NaturalDisaster:\n",
    "    \"\"\" Disasters class.\n",
    "\n",
    "    Attributes\n",
    "    ----------\n",
    "    date: float\n",
    "        date of disaster\n",
    "\n",
    "    disaster_type: str\n",
    "        type of disaster\n",
    "\n",
    "    impact: float\n",
    "        level of impact of disaster\n",
    "\n",
    "    etf_effect: float\n",
    "        etf's affected\n",
    "\n",
    "    Methods\n",
    "    -------\n",
    "    info():\n",
    "        Prints disaster info.\n",
    "\n",
    "    check_etf:\n",
    "        checks disaster impact on ETF\n",
    "\n",
    "\n",
    "    \"\"\"\n",
    "    ETF = None \n",
    "    #Pharmaceutical ETF\n",
    "    IHE = pd.read_csv('Pharma/IHE.csv', delimiter = ',')\n",
    "    PJP = pd.read_csv('Pharma/PJP.csv', delimiter = ',')\n",
    "    PJP = pd.read_csv('Pharma/PPH.csv', delimiter = ',')\n",
    "    #Real Estate ETF\n",
    "    IYR = pd.read_csv('Real Estate/IYR.csv', delimiter = ',')\n",
    "    SCHH = pd.read_csv('Real Estate/SCHH.csv',delimiter = ',')\n",
    "    VNQ =  pd.read_csv('Real Estate/VNQ.csv', delimiter = ',')\n",
    "    #Energy Etfs\n",
    "    OILU = pd.read_csv('Energy/OILU.csv',delimiter = ',')\n",
    "    GUSH = pd.read_csv('Energy/GUSH.csv',delimiter = ',')\n",
    "    VDE = pd.read_csv('Energy/VDE.csv',delimiter = ',')\n",
    "    #materials ETF's\n",
    "    IYM = pd.read_csv('Materials/IYM.csv',delimiter = ',')\n",
    "    VAW = pd.read_csv('Materials/VAW.csv',delimiter = ',')\n",
    "    XLV = pd.read_csv('Materials/XLB.csv',delimiter = ',')\n",
    "    MXI = pd.read_csv('Materials/MXI.csv', delimiter = ',')\n",
    "    # Entertainment ETFs\n",
    "    PBS = pd.read_csv('Entertainment/PBS.csv',delimiter = ',')\n",
    "    PEJ = pd.read_csv('Entertainment/PEJ.csv',delimiter = ',')\n",
    "    VOX = pd.read_csv('Entertainment/VOX.csv',delimiter = ',')\n",
    "    # Healthcare ETFs\n",
    "    IBB = pd.read_csv('Healthcare/IBB.csv',delimiter = ',')\n",
    "    VHT = pd.read_csv('Healthcare/VHT.csv',delimiter = ',')\n",
    "    XLV = pd.read_csv('Healthcare/XLV.csv',delimiter = ',')\n",
    "    # Manufacturing ETFs\n",
    "    EXI = pd.read_csv('Manufacturing/EXI (9-28-2006).csv', delimiter = ',') \n",
    "    VIS = pd.read_csv('Manufacturing/VIS (9-30-2004).csv', delimiter = ',') \n",
    "    XLI = pd.read_csv('Manufacturing/XLI (12-28-1998).csv', delimiter = ',')\n",
    "    # Mining ETFs\n",
    "    PICK = pd.read_csv('Mining/PICK.csv', delimiter = ',') \n",
    "    REMX = pd.read_csv('Mining/REMX.csv', delimiter = ',')\n",
    "    XME = pd.read_csv('Mining/XME.csv', delimiter = ',')\n",
    "    # Tech ETFs\n",
    "    RYT = pd.read_csv('Tech/RYT.csv', delimiter = ',')\n",
    "    VGT = pd.read_csv('Tech/VGT.csv', delimiter = ',')\n",
    "    XSW = pd.read_csv('Tech/XSW.csv', delimiter = ',')\n",
    "    # Agriculture ETFs\n",
    "    dba = pd.read_csv('Agriculture/DBA.csv', delimiter = ',')\n",
    "    rja = pd.read_csv('Agriculture/RJA.csv', delimiter = ',')\n",
    "    tags = pd.read_csv('Agriculture/TAGS.csv', delimiter = ',')\n",
    "    # Automotive ETFs\n",
    "    carz = pd.read_csv('Automotive/CARZ.csv', delimiter = ',')\n",
    "    driv = pd.read_csv('Automotive/DRIV.csv', delimiter = ',')\n",
    "    vcar = pd.read_csv('Automotive/VCAR.csv', delimiter = ',')\n",
    "    # Telocommunications ETFs\n",
    "    iyz = pd.read_csv('Telecommunications/IYZ.csv', delimiter = ',')\n",
    "    nxtg = pd.read_csv('Telecommunications/NXTG.csv', delimiter = ',')\n",
    "    vox = pd.read_csv('Telecommunications/VOX.csv', delimiter = ',')\n",
    "    \n",
    "    sector = None\n",
    "    stock_open = None\n",
    "    stock_date = None\n",
    "    etf = None\n",
    "    strip_start = None\n",
    "    strip_end = None\n",
    "    \n",
    "    def __init__(self, start_date, end_date, disaster_type):\n",
    "        \"\"\"Initialize the disaster's attributes.\n",
    "\n",
    "        Parameters\n",
    "        ----------\n",
    "        start_date: str\n",
    "            Start date of disaster\n",
    "        \n",
    "        end_date: str\n",
    "            End date of disaster\n",
    "\n",
    "        disaster_type: float\n",
    "            Type of disaster: snowstorm, hurricane, wildfire, tornado\n",
    "\n",
    "        \"\"\"\n",
    "        self.start_date = start_date\n",
    "        self.end_date = end_date\n",
    "        self.disaster_type = disaster_type\n",
    "\n",
    "    def info(self):\n",
    "        \"\"\"Print to screen information on natural disaster\"\"\"\n",
    "\n",
    "        print(f\"The disaster started on {self.start_date}\")\n",
    "        print(f\"The disaster ended on {self.end_date}\")\n",
    "        print(f\"The natural disaster is a {self.disaster_type}\")\n",
    "        \n",
    "    def read_csv(self,):\n",
    "        self.csv = csv\n",
    "        self.etf = pd.read_csv(self.csv, delimiter = ',')\n",
    "        self.stock_date = self.etf['Date']\n",
    "        self.stock_open = self.etf['Open']\n",
    "        return self.etf\n",
    "           \n",
    "    def check_etf(self, ETF):\n",
    "        \"\"\"Prints ETF's affected\"\"\"\n",
    "        self.ETF = ETF\n",
    "        \n",
    "        # Pharma ETFs\n",
    "        if self.ETF == 'IHE':\n",
    "            self.IHE = pd.read_csv('Pharma/IHE.csv', delimiter = ',')\n",
    "            self.stock_open = self.IHE['Open']\n",
    "            #self.stock_date = self.IHE['Date']\n",
    "            self.stock_date =  [dt.datetime.strptime(d,'%Y-%m-%d').date() for d in self.IHE.iloc[:,0]]\n",
    "            print(self.ETF, self.IHE)\n",
    "        elif self.ETF == 'PJP':\n",
    "            self.PJP = pd.read_csv('Pharma/PJP.csv', delimiter = ',')\n",
    "            self.stock_open = self.PJP['Open']\n",
    "            self.stock_date =  [dt.datetime.strptime(d,'%Y-%m-%d').date() for d in self.PJP.iloc[:,0]]\n",
    "            print(self.ETF, self.PJP)\n",
    "        elif self.ETF == 'PPH':\n",
    "            self.PPH = pd.read_csv('Pharma/PPH.csv', delimiter = ',')\n",
    "            self.stock_open = self.PPH['Open']\n",
    "            self.stock_date =  [dt.datetime.strptime(d,'%Y-%m-%d').date() for d in self.PPH.iloc[:,0]]\n",
    "            print(self.ETF, self.PPH)\n",
    "            \n",
    "        # Real Estate ETFs\n",
    "        elif self.ETF == 'IYR':\n",
    "            self.IYR = pd.read_csv('Real Estate/IYR.csv', delimiter = ',')\n",
    "            self.stock_open = self.IYR['Open']\n",
    "            self.stock_date =  [dt.datetime.strptime(d,'%Y-%m-%d').date() for d in self.IYR.iloc[:,0]]\n",
    "            print(self.ETF, self.IYR)\n",
    "        elif self.ETF == 'SCHH':\n",
    "            self.IYR = pd.read_csv('Real Estate/IYR.csv', delimiter = ',')\n",
    "            self.stock_open = self.SCHH['Open']\n",
    "            self.stock_date =  [dt.datetime.strptime(d,'%Y-%m-%d').date() for d in self.SCHH.iloc[:,0]]\n",
    "            print(self.ETF, self.SCHH)\n",
    "        elif self.ETF == 'VNQ':\n",
    "            self.IYR = pd.read_csv('Real Estate/VNQ.csv', delimiter = ',')\n",
    "            self.stock_open = self.VNQ['Open']\n",
    "            self.stock_date =  [dt.datetime.strptime(d,'%Y-%m-%d').date() for d in self.VNQ.iloc[:,0]]\n",
    "            print(self.ETF, self.VNQ)\n",
    "            \n",
    "            \n",
    "            \n",
    "        return\n",
    "    \n",
    "    def determine_sector(self):\n",
    "        if self.ETF == 'IHE' or self.ETF == 'PJP' or self.ETF == 'PPH':\n",
    "            self.sector = 'pharma'\n",
    "        print(self.sector)\n",
    "        \n",
    "    def plot(self):\n",
    "        plt.plot(self.stock_date, self.stock_open)\n",
    "        self.strip_start = [dt.datetime.strptime(self.start_date,'%m-%d-%Y').date()]\n",
    "        self.strip_end = [dt.datetime.strptime(self.end_date,'%m-%d-%Y').date()]\n",
    "        plt.axvline(self.strip_start, c = 'orange')\n",
    "        plt.axvline(self.strip_end, c = 'orange')\n",
    "        plt.title(f\"{self.ETF} plotted during {self.disaster_type}\")\n",
    "        plt.xlabel('Year')\n",
    "        plt.ylabel(f\"{self.ETF} Stock Open\")\n"
   ]
  },
  {
   "cell_type": "code",
   "execution_count": 19,
   "id": "feb1db15",
   "metadata": {},
   "outputs": [],
   "source": [
    "tornado_2013 = NaturalDisaster(start_date = '05-21-2013', end_date = '05-23-2013', disaster_type = 'Tornado')"
   ]
  },
  {
   "cell_type": "code",
   "execution_count": 20,
   "id": "aa57608a",
   "metadata": {},
   "outputs": [
    {
     "name": "stdout",
     "output_type": "stream",
     "text": [
      "The disaster started on 05-21-2013\n",
      "The disaster ended on 05-23-2013\n",
      "The natural disaster is a Tornado\n"
     ]
    }
   ],
   "source": [
    "tornado_2013.info()"
   ]
  },
  {
   "cell_type": "code",
   "execution_count": 21,
   "id": "52c15a1b",
   "metadata": {},
   "outputs": [
    {
     "name": "stdout",
     "output_type": "stream",
     "text": [
      "IHE             Date        Open        High         Low       Close   Adj Close  \\\n",
      "0     2006-05-05   50.160000   50.160000   50.160000   50.160000   40.129250   \n",
      "1     2006-05-08   50.080002   50.090000   50.080002   50.080002   40.065250   \n",
      "2     2006-05-09   49.959999   49.959999   49.740002   49.799999   39.841248   \n",
      "3     2006-05-10   49.709999   49.709999   49.470001   49.480000   39.585220   \n",
      "4     2006-05-11   49.459999   49.459999   49.029999   49.060001   39.249229   \n",
      "...          ...         ...         ...         ...         ...         ...   \n",
      "3997  2022-03-22  196.559998  196.559998  195.039993  195.649994  194.848694   \n",
      "3998  2022-03-23  195.449997  195.570007  193.869995  193.869995  193.075989   \n",
      "3999  2022-03-24  194.559998  194.580002  193.360001  194.520004  194.520004   \n",
      "4000  2022-03-25  195.380005  195.899994  194.330002  194.979996  194.979996   \n",
      "4001  2022-03-28  194.910004  195.630005  193.860001  195.220001  195.220001   \n",
      "\n",
      "      Volume  \n",
      "0        100  \n",
      "1        800  \n",
      "2       2100  \n",
      "3       3300  \n",
      "4       1200  \n",
      "...      ...  \n",
      "3997    4700  \n",
      "3998    5200  \n",
      "3999    4100  \n",
      "4000    5200  \n",
      "4001   29700  \n",
      "\n",
      "[4002 rows x 7 columns]\n"
     ]
    }
   ],
   "source": [
    "tornado_2013.check_etf('IHE')"
   ]
  },
  {
   "cell_type": "code",
   "execution_count": 22,
   "id": "5b897e26",
   "metadata": {},
   "outputs": [
    {
     "name": "stdout",
     "output_type": "stream",
     "text": [
      "pharma\n"
     ]
    }
   ],
   "source": [
    "tornado_2013.determine_sector()"
   ]
  },
  {
   "cell_type": "code",
   "execution_count": 23,
   "id": "d420165a",
   "metadata": {},
   "outputs": [
    {
     "data": {
      "image/png": "[encoded data removed]",
      "text/plain": [
       "<Figure size 432x288 with 1 Axes>"
      ]
     },
     "metadata": {
      "needs_background": "light"
     },
     "output_type": "display_data"
    }
   ],
   "source": [
    "tornado_2013.plot()"
   ]
  },
  {
   "cell_type": "code",
   "execution_count": null,
   "id": "8b56f94a",
   "metadata": {},
   "outputs": [],
   "source": []
  },
  {
   "cell_type": "code",
   "execution_count": null,
   "id": "a233e65b",
   "metadata": {},
   "outputs": [],
   "source": []
  }
 ],
 "metadata": {
  "kernelspec": {
   "display_name": "Python 3",
   "language": "python",
   "name": "python3"
  },
  "language_info": {
   "codemirror_mode": {
    "name": "ipython",
    "version": 3
   },
   "file_extension": ".py",
   "mimetype": "text/x-python",
   "name": "python",
   "nbconvert_exporter": "python",
   "pygments_lexer": "ipython3",
   "version": "3.8.8"
  }
 },
 "nbformat": 4,
 "nbformat_minor": 5
}
